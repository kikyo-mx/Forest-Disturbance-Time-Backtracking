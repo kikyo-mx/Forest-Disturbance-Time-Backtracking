{
 "cells": [
  {
   "cell_type": "code",
   "execution_count": 1,
   "metadata": {
    "ExecuteTime": {
     "end_time": "2020-08-28T06:46:17.883368Z",
     "start_time": "2020-08-28T06:46:16.607780Z"
    }
   },
   "outputs": [],
   "source": [
    "import os\n",
    "import time\n",
    "import cv2\n",
    "import numpy as np\n",
    "from skimage import segmentation\n",
    "import matplotlib.pyplot as plt\n",
    "from osgeo import gdal, ogr\n",
    "import torch\n",
    "import torch.nn as nn\n",
    "from torch.utils.data import Dataset\n",
    "from torch.utils.data import DataLoader\n",
    "from IPython import display"
   ]
  },
  {
   "cell_type": "code",
   "execution_count": 2,
   "metadata": {
    "ExecuteTime": {
     "end_time": "2020-08-28T06:46:17.899325Z",
     "start_time": "2020-08-28T06:46:17.885363Z"
    }
   },
   "outputs": [],
   "source": [
    "class MyNet(nn.Module):\n",
    "    def __init__(self, inp_dim, mod_dim1, mod_dim2):\n",
    "        super(MyNet, self).__init__()\n",
    "\n",
    "        self.seq = nn.Sequential(\n",
    "            nn.Conv2d(inp_dim, mod_dim1, kernel_size=3, stride=1, padding=1),\n",
    "            nn.BatchNorm2d(mod_dim1),\n",
    "            nn.ReLU(inplace=True),\n",
    "\n",
    "            nn.Conv2d(mod_dim1, mod_dim2, kernel_size=1, stride=1, padding=0),\n",
    "            nn.BatchNorm2d(mod_dim2),\n",
    "            nn.ReLU(inplace=True),\n",
    "\n",
    "            nn.Conv2d(mod_dim2, mod_dim1, kernel_size=3, stride=1, padding=1),\n",
    "            nn.BatchNorm2d(mod_dim1),\n",
    "            nn.ReLU(inplace=True),\n",
    "\n",
    "            nn.Conv2d(mod_dim1, mod_dim2, kernel_size=1, stride=1, padding=0),\n",
    "            nn.BatchNorm2d(mod_dim2),\n",
    "        )\n",
    "\n",
    "    def forward(self, x):\n",
    "        return self.seq(x)"
   ]
  },
  {
   "cell_type": "code",
   "execution_count": 3,
   "metadata": {
    "ExecuteTime": {
     "end_time": "2020-08-28T06:46:17.915283Z",
     "start_time": "2020-08-28T06:46:17.902317Z"
    },
    "scrolled": true
   },
   "outputs": [],
   "source": [
    "def segmentation_ML(image, scale, sigma, min_size):\n",
    "    seg_map = segmentation.felzenszwalb(image.transpose((0, 1, 2)), scale=1, sigma=sigma, min_size=min_size)\n",
    "    # seg_map = segmentation.slic(image.transpose((1, 2, 0)), n_segments=100000, compactness=100)\n",
    "    # plt.imshow(seg_map)\n",
    "    seg_map = seg_map.flatten()\n",
    "    seg_lab = [np.where(seg_map == u_label)[0]\n",
    "               for u_label in np.unique(seg_map)]\n",
    "    return seg_lab"
   ]
  },
  {
   "cell_type": "code",
   "execution_count": 4,
   "metadata": {
    "ExecuteTime": {
     "end_time": "2020-08-28T06:46:17.931240Z",
     "start_time": "2020-08-28T06:46:17.916280Z"
    }
   },
   "outputs": [],
   "source": [
    "def train_init(image, lr, momentum, dim):\n",
    "    device = torch.device(\"cuda\" if torch.cuda.is_available() else 'cpu')\n",
    "\n",
    "    tensor = image.transpose((2, 0, 1))\n",
    "#     tensor = image\n",
    "    tensor = tensor.astype(np.float32) / 255.0\n",
    "    tensor = tensor[np.newaxis, :, :, :]\n",
    "#     tensor = tensor[np.newaxis]\n",
    "    tensor = torch.from_numpy(tensor).to(device)\n",
    "\n",
    "    model = MyNet(inp_dim=dim, mod_dim1=mod_dim1, mod_dim2=mod_dim2).to(device)\n",
    "    criterion = torch.nn.CrossEntropyLoss()\n",
    "    optimizer = torch.optim.SGD(model.parameters(), lr=lr, momentum=momentum)\n",
    "    scheduler = torch.optim.lr_scheduler.StepLR(optimizer, step_size=10, gamma=0.9)\n",
    "    # optimizer = torch.optim.RMSprop(model.parameters(), lr=1e-1, momentum=0.0)\n",
    "\n",
    "    # image_flatten = image.reshape((-1, 7))\n",
    "    # color_avg = np.random.randint(255, size=(args.max_label_num, 7))\n",
    "    # show = image[0]\n",
    "    return tensor, model, criterion, optimizer, device, scheduler"
   ]
  },
  {
   "cell_type": "code",
   "execution_count": 5,
   "metadata": {
    "ExecuteTime": {
     "end_time": "2020-08-28T06:46:17.947197Z",
     "start_time": "2020-08-28T06:46:17.933234Z"
    },
    "scrolled": true
   },
   "outputs": [],
   "source": [
    "def train(epoch, tensor, seg_lab, model, optimizer, criterion, min_label_num, scheduler):\n",
    "    start_time1 = time.time()\n",
    "    model.train()\n",
    "    plt.figure(figsize=(15, 15))\n",
    "    for batch_idx in range(train_epoch):\n",
    "        '''forward'''\n",
    "        optimizer.zero_grad()\n",
    "        output = model(tensor)[0]\n",
    "        output = output.permute(1, 2, 0).view(-1, mod_dim2)\n",
    "#         print(output.shape)\n",
    "        target = torch.argmax(output, 1)\n",
    "        im_target = target.data.cpu().numpy()\n",
    "\n",
    "        '''refine'''\n",
    "        for inds in seg_lab:\n",
    "            u_labels, hist = np.unique(im_target[inds], return_counts=True)\n",
    "            im_target[inds] = u_labels[np.argmax(hist)]\n",
    "    #     print(im_target)\n",
    "        '''backward'''\n",
    "        target = torch.from_numpy(im_target)\n",
    "        target = target.to(device)\n",
    "        loss = criterion(output, target)\n",
    "        loss.backward()\n",
    "        optimizer.step()\n",
    "        scheduler.step()\n",
    "\n",
    "        '''show image'''\n",
    "        un_label, lab_inverse = np.unique(im_target, return_inverse=True,)\n",
    "    #     print(un_label)\n",
    "        if un_label.shape[0] < max_label_num:  # update show\n",
    "    #         img_flatten = image_flatten.copy()\n",
    "    #         if len(color_avg) != un_label.shape[0]:\n",
    "    #             color_avg = [np.mean(img_flatten[im_target == label], axis=0, dtype=np.int) for label in un_label]\n",
    "    # #             print([im_target == label for label in un_label])\n",
    "    #         for lab_id, color in enumerate(color_avg):\n",
    "    #             img_flatten[lab_inverse == lab_id] = color\n",
    "    #         show = img_flatten.reshape(image.shape)\n",
    "    #     cv2.imshow(\"seg_pt\", show)\n",
    "    #     cv2.waitKey(1)\n",
    "            show = im_target.reshape(image[:, :, 0].shape)\n",
    "\n",
    "\n",
    "#         print('Loss:', batch_idx, loss.item())\n",
    "        plt.suptitle('Epoch: ' + str(batch_idx) + ' Loss: ' + str(loss.item()) + ' Class_num: ' + str(len(np.unique(show))),fontsize=30)\n",
    "        plt.imshow(show)\n",
    "        display.display(plt.gcf())\n",
    "        display.clear_output(wait=True)\n",
    "#         time.sleep(1)\n",
    "        if len(un_label) <= min_label_num:\n",
    "            break\n",
    "    return show\n",
    "\n",
    "# print(img_flatten[0], img_flatten[False], img_flatten[True], color_avg)"
   ]
  },
  {
   "cell_type": "code",
   "execution_count": 6,
   "metadata": {
    "ExecuteTime": {
     "end_time": "2020-08-28T06:46:17.963154Z",
     "start_time": "2020-08-28T06:46:17.948194Z"
    }
   },
   "outputs": [],
   "source": [
    "def save_png(path, show):\n",
    "#     time0 = time.time() - start_time0\n",
    "#     time1 = time.time() - start_time1\n",
    "#     print('PyTorchInit: %.2f\\nTimeUsed: %.2f' % (time0, time1))\n",
    "#     if os.path.exists('D:\\\\yyx\\\\GEE\\\\data\\\\changbai\\\\CB_test1.png'):\n",
    "#         os.remove('D:\\\\yyx\\\\GEE\\\\data\\\\changbai\\\\CB_test1.png')\n",
    "#     cv2.imwrite('D:\\\\yyx\\\\GEE\\\\data\\\\changbai\\\\CB_test1.png', show)\n",
    "    cv2.imwrite(path, show)"
   ]
  },
  {
   "cell_type": "code",
   "execution_count": 7,
   "metadata": {
    "ExecuteTime": {
     "end_time": "2020-08-28T06:46:17.979112Z",
     "start_time": "2020-08-28T06:46:17.964153Z"
    }
   },
   "outputs": [],
   "source": [
    "def save_tif(CB_tif, path, show):\n",
    "    if os.path.exists('D:\\\\yyx\\\\GEE\\\\data\\\\changbai\\\\CB_test1.tif'):\n",
    "        os.remove('D:\\\\yyx\\\\GEE\\\\data\\\\changbai\\\\CB_test1.tif')\n",
    "    width = CB_tif.RasterXSize\n",
    "    height = CB_tif.RasterYSize\n",
    "    driver = gdal.GetDriverByName(\"GTiff\")\n",
    "    tods = driver.Create('D:\\\\yyx\\\\GEE\\\\data\\\\changbai\\\\CB_test1.tif', width, height, 3, options=[\"INTERLEAVE=PIXEL\"])\n",
    "#     tods = driver.Create(path, width, height, 3, options=[\"INTERLEAVE=PIXEL\"])\n",
    "    tra = CB_tif.GetGeoTransform()\n",
    "    pro = CB_tif.GetProjectionRef()\n",
    "    tods.SetGeoTransform(tra)\n",
    "    tods.SetProjection(pro)\n",
    "    tods.GetRasterBand(1).WriteArray(show)\n",
    "    tods = None"
   ]
  },
  {
   "cell_type": "code",
   "execution_count": 8,
   "metadata": {
    "ExecuteTime": {
     "end_time": "2020-08-28T06:46:17.995069Z",
     "start_time": "2020-08-28T06:46:17.981107Z"
    }
   },
   "outputs": [],
   "source": [
    "input_image_path = 'D:\\\\Competition\\\\train\\\\image\\\\5.tif'\n",
    "train_epoch = 256\n",
    "mod_dim1 = 64  #\n",
    "mod_dim2 = 32\n",
    "gpu_id = 0\n",
    "\n",
    "min_label_num = 8  # if the label number small than it, break loop\n",
    "max_label_num = 256  # if the label number small than it, start to show result image."
   ]
  },
  {
   "cell_type": "code",
   "execution_count": 9,
   "metadata": {
    "ExecuteTime": {
     "end_time": "2020-08-28T06:46:18.011026Z",
     "start_time": "2020-08-28T06:46:17.997064Z"
    }
   },
   "outputs": [],
   "source": [
    "start_time0 = time.time()\n",
    "\n",
    "# CB_tif = gdal.Open(args.input_image_path)\n",
    "# image = []\n",
    "torch.cuda.manual_seed_all(1943)\n",
    "np.random.seed(1943)\n",
    "os.environ['CUDA_VISIBLE_DEVICES'] = str(gpu_id)  # choose GPU:0\n",
    "image = cv2.imread(input_image_path)\n",
    "# for band in range(1, CB_tif.RasterCount):\n",
    "#     image.append(CB_tif.GetRasterBand(band).ReadAsArray())\n",
    "# image = np.array(image)"
   ]
  },
  {
   "cell_type": "code",
   "execution_count": 10,
   "metadata": {
    "ExecuteTime": {
     "end_time": "2020-08-28T06:46:18.026984Z",
     "start_time": "2020-08-28T06:46:18.012024Z"
    }
   },
   "outputs": [
    {
     "data": {
      "text/plain": [
       "(256, 256, 3)"
      ]
     },
     "execution_count": 10,
     "metadata": {},
     "output_type": "execute_result"
    }
   ],
   "source": [
    "image.shape"
   ]
  },
  {
   "cell_type": "code",
   "execution_count": 11,
   "metadata": {
    "ExecuteTime": {
     "end_time": "2020-08-28T06:46:18.042941Z",
     "start_time": "2020-08-28T06:46:18.027982Z"
    }
   },
   "outputs": [],
   "source": [
    "# path = 'D:\\\\yyx\\\\GEE\\\\data\\\\changbai\\\\tiaocan\\\\'\n",
    "# for sigma in np.arange(0.1, 1, 0.1):\n",
    "#     seg_lab = segmentation_ML(1, sigma, 32)\n",
    "#     for lr in np.arange(0.01, 0.1, 0.01):\n",
    "#         for min_label_num in np.arange(6, 13):\n",
    "#             tensor, model, criterion, optimizer, device = train_init(image, lr, 0.9)\n",
    "#             show = train(args.train_epoch, tensor, seg_lab, model, optimizer, criterion, min_label_num)\n",
    "# #             path_png = path + str(lr) + '_' + str(sigma) + '_' + str(min_label_num) + '.png'\n",
    "# #             save_png(path_png, show)\n",
    "#             path_tif = path + str(lr) + '_' + str(sigma) + '_' + str(min_label_num) + '.tif'\n",
    "#             save_tif(CB_tif, path_tif, show)\n",
    "#             print(lr, sigma, min_label_num)"
   ]
  },
  {
   "cell_type": "code",
   "execution_count": 13,
   "metadata": {
    "ExecuteTime": {
     "end_time": "2020-08-28T07:02:32.207237Z",
     "start_time": "2020-08-28T07:02:15.763793Z"
    },
    "scrolled": false
   },
   "outputs": [
    {
     "data": {
      "image/png": "[encoded data removed]",
      "text/plain": [
       "<Figure size 1080x1080 with 1 Axes>"
      ]
     },
     "metadata": {
      "needs_background": "light"
     },
     "output_type": "display_data"
    }
   ],
   "source": [
    "sigma = 0.5\n",
    "lr = 0.03\n",
    "min_label_num = 8\n",
    "min_size = 64\n",
    "scale = 32\n",
    "dim_num = 3\n",
    "\n",
    "seg_lab = segmentation_ML(image, scale, sigma, min_size)\n",
    "tensor, model, criterion, optimizer, device, scheduler = train_init(image, lr, 0.9, dim_num)\n",
    "# print(tensor.shape)\n",
    "show = train(train_epoch, tensor, seg_lab, model, optimizer, criterion, min_label_num, scheduler)\n",
    "# save_tif(CB_tif, 1, show)\n",
    "# tensor.shape"
   ]
  },
  {
   "cell_type": "code",
   "execution_count": 23,
   "metadata": {
    "ExecuteTime": {
     "end_time": "2020-08-28T07:45:58.347084Z",
     "start_time": "2020-08-28T07:45:58.332174Z"
    }
   },
   "outputs": [
    {
     "ename": "TypeError",
     "evalue": "ufunc 'add' did not contain a loop with signature matching types dtype('<U5') dtype('<U5') dtype('<U5')",
     "output_type": "error",
     "traceback": [
      "\u001b[1;31m---------------------------------------------------------------------------\u001b[0m",
      "\u001b[1;31mTypeError\u001b[0m                                 Traceback (most recent call last)",
      "\u001b[1;32m<ipython-input-23-294ec3bde564>\u001b[0m in \u001b[0;36m<module>\u001b[1;34m\u001b[0m\n\u001b[0;32m      1\u001b[0m \u001b[0ma\u001b[0m \u001b[1;33m=\u001b[0m \u001b[0mnp\u001b[0m\u001b[1;33m.\u001b[0m\u001b[0marray\u001b[0m\u001b[1;33m(\u001b[0m\u001b[1;33m[\u001b[0m\u001b[1;34m'12345'\u001b[0m\u001b[1;33m,\u001b[0m \u001b[1;34m'abc'\u001b[0m\u001b[1;33m]\u001b[0m\u001b[1;33m)\u001b[0m\u001b[1;33m\u001b[0m\u001b[1;33m\u001b[0m\u001b[0m\n\u001b[1;32m----> 2\u001b[1;33m \u001b[0ma\u001b[0m \u001b[1;33m+\u001b[0m \u001b[1;34m'1'\u001b[0m\u001b[1;33m\u001b[0m\u001b[1;33m\u001b[0m\u001b[0m\n\u001b[0m",
      "\u001b[1;31mTypeError\u001b[0m: ufunc 'add' did not contain a loop with signature matching types dtype('<U5') dtype('<U5') dtype('<U5')"
     ]
    }
   ],
   "source": [
    "a = np.array(['12345', 'abc'])\n",
    "a + '1'"
   ]
  },
  {
   "cell_type": "code",
   "execution_count": null,
   "metadata": {
    "ExecuteTime": {
     "end_time": "2020-08-28T06:58:03.160077Z",
     "start_time": "2020-08-28T06:46:15.628Z"
    }
   },
   "outputs": [],
   "source": [
    "seg_lab"
   ]
  },
  {
   "cell_type": "code",
   "execution_count": null,
   "metadata": {},
   "outputs": [],
   "source": []
  }
 ],
 "metadata": {
  "kernelspec": {
   "display_name": "Python 3",
   "language": "python",
   "name": "python3"
  },
  "language_info": {
   "codemirror_mode": {
    "name": "ipython",
    "version": 3
   },
   "file_extension": ".py",
   "mimetype": "text/x-python",
   "name": "python",
   "nbconvert_exporter": "python",
   "pygments_lexer": "ipython3",
   "version": "3.7.6"
  },
  "varInspector": {
   "cols": {
    "lenName": 16,
    "lenType": 16,
    "lenVar": 40
   },
   "kernels_config": {
    "python": {
     "delete_cmd_postfix": "",
     "delete_cmd_prefix": "del ",
     "library": "var_list.py",
     "varRefreshCmd": "print(var_dic_list())"
    },
    "r": {
     "delete_cmd_postfix": ") ",
     "delete_cmd_prefix": "rm(",
     "library": "var_list.r",
     "varRefreshCmd": "cat(var_dic_list()) "
    }
   },
   "types_to_exclude": [
    "module",
    "function",
    "builtin_function_or_method",
    "instance",
    "_Feature"
   ],
   "window_display": false
  }
 },
 "nbformat": 4,
 "nbformat_minor": 4
}
